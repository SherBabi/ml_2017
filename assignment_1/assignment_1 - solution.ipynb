{
 "cells": [
  {
   "cell_type": "markdown",
   "metadata": {},
   "source": [
    "###  Following cell is for data preparation, you should put 'adult.data' file in the same folder as current notebook and ran the cell in the beginning."
   ]
  },
  {
   "cell_type": "code",
   "execution_count": 1,
   "metadata": {},
   "outputs": [],
   "source": [
    "from sklearn.model_selection import train_test_split\n",
    "import pandas as pd\n",
    "import numpy as np\n",
    "names = ['age', 'workclass', 'fnlwgt', 'education', 'education-num', 'marital-status', 'occupation', 'relationship', 'race', 'sex', 'capital-gain',\n",
    "         'capital-loss', 'hours-per-week', 'native-country', 'income']\n",
    "df = pd.read_csv('adult.data', names=names, index_col=False)\n",
    "df = df[['age', 'workclass', 'sex', 'hours-per-week',\n",
    "         'education', 'capital-gain', 'capital-loss', 'income']]\n",
    "df.replace(' ?', np.nan, inplace=True)"
   ]
  },
  {
   "cell_type": "markdown",
   "metadata": {},
   "source": [
    "### The dataset consists of 7 features of a person and an income class that they belong to: '>50K' or '<=50K'."
   ]
  },
  {
   "cell_type": "code",
   "execution_count": 2,
   "metadata": {},
   "outputs": [
    {
     "data": {
      "text/html": [
       "<div>\n",
       "<table border=\"1\" class=\"dataframe\">\n",
       "  <thead>\n",
       "    <tr style=\"text-align: right;\">\n",
       "      <th></th>\n",
       "      <th>age</th>\n",
       "      <th>workclass</th>\n",
       "      <th>sex</th>\n",
       "      <th>hours-per-week</th>\n",
       "      <th>education</th>\n",
       "      <th>capital-gain</th>\n",
       "      <th>capital-loss</th>\n",
       "      <th>income</th>\n",
       "    </tr>\n",
       "  </thead>\n",
       "  <tbody>\n",
       "    <tr>\n",
       "      <th>0</th>\n",
       "      <td>39</td>\n",
       "      <td>State-gov</td>\n",
       "      <td>Male</td>\n",
       "      <td>40</td>\n",
       "      <td>Bachelors</td>\n",
       "      <td>2174</td>\n",
       "      <td>0</td>\n",
       "      <td>&lt;=50K</td>\n",
       "    </tr>\n",
       "    <tr>\n",
       "      <th>1</th>\n",
       "      <td>50</td>\n",
       "      <td>Self-emp-not-inc</td>\n",
       "      <td>Male</td>\n",
       "      <td>13</td>\n",
       "      <td>Bachelors</td>\n",
       "      <td>0</td>\n",
       "      <td>0</td>\n",
       "      <td>&lt;=50K</td>\n",
       "    </tr>\n",
       "    <tr>\n",
       "      <th>2</th>\n",
       "      <td>38</td>\n",
       "      <td>Private</td>\n",
       "      <td>Male</td>\n",
       "      <td>40</td>\n",
       "      <td>HS-grad</td>\n",
       "      <td>0</td>\n",
       "      <td>0</td>\n",
       "      <td>&lt;=50K</td>\n",
       "    </tr>\n",
       "    <tr>\n",
       "      <th>3</th>\n",
       "      <td>53</td>\n",
       "      <td>Private</td>\n",
       "      <td>Male</td>\n",
       "      <td>40</td>\n",
       "      <td>11th</td>\n",
       "      <td>0</td>\n",
       "      <td>0</td>\n",
       "      <td>&lt;=50K</td>\n",
       "    </tr>\n",
       "    <tr>\n",
       "      <th>4</th>\n",
       "      <td>28</td>\n",
       "      <td>Private</td>\n",
       "      <td>Female</td>\n",
       "      <td>40</td>\n",
       "      <td>Bachelors</td>\n",
       "      <td>0</td>\n",
       "      <td>0</td>\n",
       "      <td>&lt;=50K</td>\n",
       "    </tr>\n",
       "  </tbody>\n",
       "</table>\n",
       "</div>"
      ],
      "text/plain": [
       "   age          workclass      sex  hours-per-week   education  capital-gain  \\\n",
       "0   39          State-gov     Male              40   Bachelors          2174   \n",
       "1   50   Self-emp-not-inc     Male              13   Bachelors             0   \n",
       "2   38            Private     Male              40     HS-grad             0   \n",
       "3   53            Private     Male              40        11th             0   \n",
       "4   28            Private   Female              40   Bachelors             0   \n",
       "\n",
       "   capital-loss  income  \n",
       "0             0   <=50K  \n",
       "1             0   <=50K  \n",
       "2             0   <=50K  \n",
       "3             0   <=50K  \n",
       "4             0   <=50K  "
      ]
     },
     "execution_count": 2,
     "metadata": {},
     "output_type": "execute_result"
    }
   ],
   "source": [
    "df.head()"
   ]
  },
  {
   "cell_type": "markdown",
   "metadata": {},
   "source": [
    "## 1) Perform k-nearest neighbors algorithm with two k parameters of your choice on a given dataset."
   ]
  },
  {
   "cell_type": "markdown",
   "metadata": {},
   "source": [
    "### 1.1) Preprocessing: dataset contains missing values and categorical variables, you need to handle them, before applying an algorithm on the data."
   ]
  },
  {
   "cell_type": "code",
   "execution_count": 2,
   "metadata": {},
   "outputs": [],
   "source": [
    "cat_columns = ['workclass', 'sex', 'education']\n",
    "for cat_col in cat_columns:\n",
    "    df = df.join(pd.get_dummies(df[cat_col]))\n",
    "df = df.drop(labels=cat_columns, axis=1)"
   ]
  },
  {
   "cell_type": "code",
   "execution_count": 3,
   "metadata": {},
   "outputs": [
    {
     "data": {
      "text/html": [
       "<div>\n",
       "<table border=\"1\" class=\"dataframe\">\n",
       "  <thead>\n",
       "    <tr style=\"text-align: right;\">\n",
       "      <th></th>\n",
       "      <th>age</th>\n",
       "      <th>hours-per-week</th>\n",
       "      <th>capital-gain</th>\n",
       "      <th>capital-loss</th>\n",
       "      <th>income</th>\n",
       "      <th>Federal-gov</th>\n",
       "      <th>Local-gov</th>\n",
       "      <th>Never-worked</th>\n",
       "      <th>Private</th>\n",
       "      <th>Self-emp-inc</th>\n",
       "      <th>...</th>\n",
       "      <th>9th</th>\n",
       "      <th>Assoc-acdm</th>\n",
       "      <th>Assoc-voc</th>\n",
       "      <th>Bachelors</th>\n",
       "      <th>Doctorate</th>\n",
       "      <th>HS-grad</th>\n",
       "      <th>Masters</th>\n",
       "      <th>Preschool</th>\n",
       "      <th>Prof-school</th>\n",
       "      <th>Some-college</th>\n",
       "    </tr>\n",
       "  </thead>\n",
       "  <tbody>\n",
       "    <tr>\n",
       "      <th>0</th>\n",
       "      <td>39</td>\n",
       "      <td>40</td>\n",
       "      <td>2174</td>\n",
       "      <td>0</td>\n",
       "      <td>&lt;=50K</td>\n",
       "      <td>0</td>\n",
       "      <td>0</td>\n",
       "      <td>0</td>\n",
       "      <td>0</td>\n",
       "      <td>0</td>\n",
       "      <td>...</td>\n",
       "      <td>0</td>\n",
       "      <td>0</td>\n",
       "      <td>0</td>\n",
       "      <td>1</td>\n",
       "      <td>0</td>\n",
       "      <td>0</td>\n",
       "      <td>0</td>\n",
       "      <td>0</td>\n",
       "      <td>0</td>\n",
       "      <td>0</td>\n",
       "    </tr>\n",
       "    <tr>\n",
       "      <th>1</th>\n",
       "      <td>50</td>\n",
       "      <td>13</td>\n",
       "      <td>0</td>\n",
       "      <td>0</td>\n",
       "      <td>&lt;=50K</td>\n",
       "      <td>0</td>\n",
       "      <td>0</td>\n",
       "      <td>0</td>\n",
       "      <td>0</td>\n",
       "      <td>0</td>\n",
       "      <td>...</td>\n",
       "      <td>0</td>\n",
       "      <td>0</td>\n",
       "      <td>0</td>\n",
       "      <td>1</td>\n",
       "      <td>0</td>\n",
       "      <td>0</td>\n",
       "      <td>0</td>\n",
       "      <td>0</td>\n",
       "      <td>0</td>\n",
       "      <td>0</td>\n",
       "    </tr>\n",
       "    <tr>\n",
       "      <th>2</th>\n",
       "      <td>38</td>\n",
       "      <td>40</td>\n",
       "      <td>0</td>\n",
       "      <td>0</td>\n",
       "      <td>&lt;=50K</td>\n",
       "      <td>0</td>\n",
       "      <td>0</td>\n",
       "      <td>0</td>\n",
       "      <td>1</td>\n",
       "      <td>0</td>\n",
       "      <td>...</td>\n",
       "      <td>0</td>\n",
       "      <td>0</td>\n",
       "      <td>0</td>\n",
       "      <td>0</td>\n",
       "      <td>0</td>\n",
       "      <td>1</td>\n",
       "      <td>0</td>\n",
       "      <td>0</td>\n",
       "      <td>0</td>\n",
       "      <td>0</td>\n",
       "    </tr>\n",
       "    <tr>\n",
       "      <th>3</th>\n",
       "      <td>53</td>\n",
       "      <td>40</td>\n",
       "      <td>0</td>\n",
       "      <td>0</td>\n",
       "      <td>&lt;=50K</td>\n",
       "      <td>0</td>\n",
       "      <td>0</td>\n",
       "      <td>0</td>\n",
       "      <td>1</td>\n",
       "      <td>0</td>\n",
       "      <td>...</td>\n",
       "      <td>0</td>\n",
       "      <td>0</td>\n",
       "      <td>0</td>\n",
       "      <td>0</td>\n",
       "      <td>0</td>\n",
       "      <td>0</td>\n",
       "      <td>0</td>\n",
       "      <td>0</td>\n",
       "      <td>0</td>\n",
       "      <td>0</td>\n",
       "    </tr>\n",
       "    <tr>\n",
       "      <th>4</th>\n",
       "      <td>28</td>\n",
       "      <td>40</td>\n",
       "      <td>0</td>\n",
       "      <td>0</td>\n",
       "      <td>&lt;=50K</td>\n",
       "      <td>0</td>\n",
       "      <td>0</td>\n",
       "      <td>0</td>\n",
       "      <td>1</td>\n",
       "      <td>0</td>\n",
       "      <td>...</td>\n",
       "      <td>0</td>\n",
       "      <td>0</td>\n",
       "      <td>0</td>\n",
       "      <td>1</td>\n",
       "      <td>0</td>\n",
       "      <td>0</td>\n",
       "      <td>0</td>\n",
       "      <td>0</td>\n",
       "      <td>0</td>\n",
       "      <td>0</td>\n",
       "    </tr>\n",
       "  </tbody>\n",
       "</table>\n",
       "<p>5 rows × 31 columns</p>\n",
       "</div>"
      ],
      "text/plain": [
       "   age  hours-per-week  capital-gain  capital-loss  income   Federal-gov  \\\n",
       "0   39              40          2174             0   <=50K             0   \n",
       "1   50              13             0             0   <=50K             0   \n",
       "2   38              40             0             0   <=50K             0   \n",
       "3   53              40             0             0   <=50K             0   \n",
       "4   28              40             0             0   <=50K             0   \n",
       "\n",
       "    Local-gov   Never-worked   Private   Self-emp-inc      ...         9th  \\\n",
       "0           0              0         0              0      ...           0   \n",
       "1           0              0         0              0      ...           0   \n",
       "2           0              0         1              0      ...           0   \n",
       "3           0              0         1              0      ...           0   \n",
       "4           0              0         1              0      ...           0   \n",
       "\n",
       "    Assoc-acdm   Assoc-voc   Bachelors   Doctorate   HS-grad   Masters  \\\n",
       "0            0           0           1           0         0         0   \n",
       "1            0           0           1           0         0         0   \n",
       "2            0           0           0           0         1         0   \n",
       "3            0           0           0           0         0         0   \n",
       "4            0           0           1           0         0         0   \n",
       "\n",
       "    Preschool   Prof-school   Some-college  \n",
       "0           0             0              0  \n",
       "1           0             0              0  \n",
       "2           0             0              0  \n",
       "3           0             0              0  \n",
       "4           0             0              0  \n",
       "\n",
       "[5 rows x 31 columns]"
      ]
     },
     "execution_count": 3,
     "metadata": {},
     "output_type": "execute_result"
    }
   ],
   "source": [
    "df.head()"
   ]
  },
  {
   "cell_type": "markdown",
   "metadata": {
    "collapsed": true
   },
   "source": [
    "### 1.2) You need to divide your dataset into two parts: training and test. Training subset should contain 80% of the whole dataset and target classes should be balanced in both subsets."
   ]
  },
  {
   "cell_type": "code",
   "execution_count": 4,
   "metadata": {
    "collapsed": true
   },
   "outputs": [],
   "source": [
    "#feat_columns = ['age','workclass','sex','hours-per-week','education','capital-gain','capital-loss']\n",
    "X_train, X_test, y_train, y_test = train_test_split(df.drop(\"income\", axis=1),\n",
    "                                                    df['income'], test_size=0.2, random_state = 1, stratify = df['income'])"
   ]
  },
  {
   "cell_type": "markdown",
   "metadata": {},
   "source": [
    "### 1.3) Apply k-nearest neighbors algorithm with two different k parameters of your choice:"
   ]
  },
  {
   "cell_type": "code",
   "execution_count": 5,
   "metadata": {},
   "outputs": [],
   "source": [
    "# Importing the classifier from scikit learn\n",
    "from sklearn.neighbors import KNeighborsClassifier\n",
    "# Initializing first classifier with number of neighbours = 10\n",
    "knn10 = KNeighborsClassifier(n_neighbors=10)\n",
    "# Initializing second classifier with number of neighbours = 3\n",
    "knn3 = KNeighborsClassifier(n_neighbors=3)\n",
    "\n",
    "knn10.fit(X_train, y_train)\n",
    "knn3.fit(X_train, y_train)\n",
    "\n",
    "# Predicting class of new customers with k nearest neighbors algoritm with k = 10\n",
    "result10 = knn10.predict(X_test)\n",
    "# Predicting class of new customers with k nearest neighbors algoritm with k = 3\n",
    "result3 = knn3.predict(X_test)"
   ]
  },
  {
   "cell_type": "markdown",
   "metadata": {},
   "source": [
    "## 2) Evaluate and compare performance of two models:"
   ]
  },
  {
   "cell_type": "markdown",
   "metadata": {},
   "source": [
    "### 2.1) Print performance metrics of your models:"
   ]
  },
  {
   "cell_type": "markdown",
   "metadata": {},
   "source": [
    "## Results for k=3"
   ]
  },
  {
   "cell_type": "code",
   "execution_count": 6,
   "metadata": {},
   "outputs": [
    {
     "name": "stdout",
     "output_type": "stream",
     "text": [
      "             precision    recall  f1-score   support\n",
      "\n",
      "      <=50K       0.86      0.91      0.89      4945\n",
      "       >50K       0.66      0.53      0.59      1568\n",
      "\n",
      "avg / total       0.81      0.82      0.81      6513\n",
      "\n"
     ]
    }
   ],
   "source": [
    "from sklearn.metrics import classification_report  # Importing reporting module\n",
    "# Module takes in list of correct classes and list of predicted classes\n",
    "rep10 = classification_report(y_test, result10)\n",
    "rep3 = classification_report(y_test, result3)\n",
    "\n",
    "print(rep3)"
   ]
  },
  {
   "cell_type": "markdown",
   "metadata": {},
   "source": [
    "## Results for k=10"
   ]
  },
  {
   "cell_type": "code",
   "execution_count": 7,
   "metadata": {},
   "outputs": [
    {
     "name": "stdout",
     "output_type": "stream",
     "text": [
      "             precision    recall  f1-score   support\n",
      "\n",
      "      <=50K       0.85      0.95      0.90      4945\n",
      "       >50K       0.75      0.46      0.57      1568\n",
      "\n",
      "avg / total       0.83      0.83      0.82      6513\n",
      "\n"
     ]
    }
   ],
   "source": [
    "print(rep10)"
   ]
  },
  {
   "cell_type": "markdown",
   "metadata": {},
   "source": [
    "### 2.2) In a few sentences argue which k performed better, based on performance metrics from the previous task. "
   ]
  },
  {
   "cell_type": "markdown",
   "metadata": {},
   "source": [
    "Based on perfomance metrics from classification report we can argue that both classifiers performed mor or less equally with average f1 score 0.82. Although average precision and recall are higher in k=10 model."
   ]
  },
  {
   "cell_type": "markdown",
   "metadata": {},
   "source": [
    "### 2.3) Classification for which class were performed better? Why do you think this is the case?"
   ]
  },
  {
   "cell_type": "markdown",
   "metadata": {
    "collapsed": true
   },
   "source": [
    "Classification for the '<=50K' class has higher f1-score in both classifiers. You can also notice that increase in parameter k leads to improvement of f1 score for '<=50k' class and decline of f1 score for '>50k' class. This result can be explained by unbalanced classes of our dataset. Overrepresentation of datapoints with '<=50k' class leads to lower recall rates of '>50k' class."
   ]
  },
  {
   "cell_type": "code",
   "execution_count": 8,
   "metadata": {},
   "outputs": [
    {
     "name": "stdout",
     "output_type": "stream",
     "text": [
      "How classes are distributed in test data:\n"
     ]
    },
    {
     "data": {
      "text/plain": [
       " <=50K    0.759251\n",
       " >50K     0.240749\n",
       "Name: correct_labels, dtype: float64"
      ]
     },
     "execution_count": 8,
     "metadata": {},
     "output_type": "execute_result"
    }
   ],
   "source": [
    "resdf = pd.DataFrame()\n",
    "resdf['correct_labels'] = y_test\n",
    "resdf['K=3'] = result3\n",
    "resdf['K=10'] = result10\n",
    "print(\"How classes are distributed in test data:\")\n",
    "resdf['correct_labels'].value_counts(normalize=True)"
   ]
  },
  {
   "cell_type": "code",
   "execution_count": 9,
   "metadata": {},
   "outputs": [
    {
     "name": "stdout",
     "output_type": "stream",
     "text": [
      "How classes are distributed in results of knn with k=3:\n"
     ]
    },
    {
     "data": {
      "text/plain": [
       " <=50K    0.807616\n",
       " >50K     0.192384\n",
       "Name: K=3, dtype: float64"
      ]
     },
     "execution_count": 9,
     "metadata": {},
     "output_type": "execute_result"
    }
   ],
   "source": [
    "print(\"How classes are distributed in results of knn with k=3:\")\n",
    "resdf['K=3'].value_counts(normalize=True)"
   ]
  },
  {
   "cell_type": "code",
   "execution_count": 10,
   "metadata": {},
   "outputs": [
    {
     "name": "stdout",
     "output_type": "stream",
     "text": [
      "How classes are distributed in results of knn with k=10:\n"
     ]
    },
    {
     "data": {
      "text/plain": [
       " <=50K    0.851835\n",
       " >50K     0.148165\n",
       "Name: K=10, dtype: float64"
      ]
     },
     "execution_count": 10,
     "metadata": {},
     "output_type": "execute_result"
    }
   ],
   "source": [
    "print(\"How classes are distributed in results of knn with k=10:\")\n",
    "resdf['K=10'].value_counts(normalize = True)"
   ]
  }
 ],
 "metadata": {
  "anaconda-cloud": {},
  "kernelspec": {
   "display_name": "Python [default]",
   "language": "python",
   "name": "python3"
  },
  "language_info": {
   "codemirror_mode": {
    "name": "ipython",
    "version": 3
   },
   "file_extension": ".py",
   "mimetype": "text/x-python",
   "name": "python",
   "nbconvert_exporter": "python",
   "pygments_lexer": "ipython3",
   "version": "3.5.2"
  }
 },
 "nbformat": 4,
 "nbformat_minor": 1
}
