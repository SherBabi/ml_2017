{
 "cells": [
  {
   "cell_type": "code",
   "execution_count": 1,
   "metadata": {},
   "outputs": [
    {
     "name": "stderr",
     "output_type": "stream",
     "text": [
      ":0: FutureWarning: IPython widgets are experimental and may change in the future.\n"
     ]
    }
   ],
   "source": [
    "from sklearn.neighbors import KNeighborsClassifier\n",
    "import pandas as pd\n",
    "import seaborn\n",
    "import matplotlib.pyplot as plt\n",
    "%matplotlib inline"
   ]
  },
  {
   "cell_type": "markdown",
   "metadata": {},
   "source": [
    "### Let's assume that we work for the bank and we need to decide whether give someone a loan or not. We have a data set with information about age and income of our previous customers. We also have information about whether they were good customers or not (they didn't miss their payments). "
   ]
  },
  {
   "cell_type": "code",
   "execution_count": 2,
   "metadata": {
    "collapsed": true
   },
   "outputs": [],
   "source": [
    "age = [20, 22, 25, 36, 39, 45, 48, 54, 57, 62]\n",
    "income = [35, 30, 24, 37, 33, 55, 70, 67, 80, 53]\n",
    "customer_type = ['bad', 'bad', 'bad', 'bad',\n",
    "                 'bad', 'good', 'good', 'good', 'good', 'good']"
   ]
  },
  {
   "cell_type": "markdown",
   "metadata": {},
   "source": [
    "### I will put all the data into pandas DataFrame, so it will be easier to work with."
   ]
  },
  {
   "cell_type": "code",
   "execution_count": 3,
   "metadata": {},
   "outputs": [
    {
     "data": {
      "text/html": [
       "<div>\n",
       "<table border=\"1\" class=\"dataframe\">\n",
       "  <thead>\n",
       "    <tr style=\"text-align: right;\">\n",
       "      <th></th>\n",
       "      <th>age</th>\n",
       "      <th>income</th>\n",
       "      <th>customer</th>\n",
       "    </tr>\n",
       "  </thead>\n",
       "  <tbody>\n",
       "    <tr>\n",
       "      <th>0</th>\n",
       "      <td>20</td>\n",
       "      <td>35</td>\n",
       "      <td>bad</td>\n",
       "    </tr>\n",
       "    <tr>\n",
       "      <th>1</th>\n",
       "      <td>22</td>\n",
       "      <td>30</td>\n",
       "      <td>bad</td>\n",
       "    </tr>\n",
       "    <tr>\n",
       "      <th>2</th>\n",
       "      <td>25</td>\n",
       "      <td>24</td>\n",
       "      <td>bad</td>\n",
       "    </tr>\n",
       "    <tr>\n",
       "      <th>3</th>\n",
       "      <td>36</td>\n",
       "      <td>37</td>\n",
       "      <td>bad</td>\n",
       "    </tr>\n",
       "    <tr>\n",
       "      <th>4</th>\n",
       "      <td>39</td>\n",
       "      <td>33</td>\n",
       "      <td>bad</td>\n",
       "    </tr>\n",
       "  </tbody>\n",
       "</table>\n",
       "</div>"
      ],
      "text/plain": [
       "   age  income customer\n",
       "0   20      35      bad\n",
       "1   22      30      bad\n",
       "2   25      24      bad\n",
       "3   36      37      bad\n",
       "4   39      33      bad"
      ]
     },
     "execution_count": 3,
     "metadata": {},
     "output_type": "execute_result"
    }
   ],
   "source": [
    "df = pd.DataFrame()\n",
    "df['age'] = age\n",
    "df['income'] = income\n",
    "df['customer'] = customer_type\n",
    "df.head()"
   ]
  },
  {
   "cell_type": "markdown",
   "metadata": {},
   "source": [
    "## Now, let's plot the data with labeled points, so we can see the division between two classes"
   ]
  },
  {
   "cell_type": "code",
   "execution_count": 30,
   "metadata": {},
   "outputs": [
    {
     "data": {
      "text/plain": [
       "<matplotlib.axes._subplots.AxesSubplot at 0xcb9e3c8>"
      ]
     },
     "execution_count": 30,
     "metadata": {},
     "output_type": "execute_result"
    },
    {
     "data": {
      "image/png": "[encoded data removed]",
      "text/plain": [
       "<matplotlib.figure.Figure at 0xca7c208>"
      ]
     },
     "metadata": {},
     "output_type": "display_data"
    }
   ],
   "source": [
    "ax = df[df['customer'] == 'good'].plot.scatter(\n",
    "    x='age', y='income', figsize=(10, 7), color='DarkBlue', label='Good', s=100)\n",
    "df[df['customer'] == 'bad'].plot.scatter(\n",
    "    x='age', y='income', color='Red', label='Bad', ax=ax, s=100)"
   ]
  },
  {
   "cell_type": "markdown",
   "metadata": {},
   "source": [
    "### We have 3 new customers and we need to predict whether they will be good customers."
   ]
  },
  {
   "cell_type": "code",
   "execution_count": 5,
   "metadata": {
    "collapsed": true
   },
   "outputs": [],
   "source": [
    "age_new = [25, 41, 55]\n",
    "# We have only age and income for new customers, and we need to predict type\n",
    "income_new = [33, 47, 58]"
   ]
  },
  {
   "cell_type": "code",
   "execution_count": 6,
   "metadata": {
    "collapsed": true
   },
   "outputs": [],
   "source": [
    "dfn = pd.DataFrame()\n",
    "dfn['age'] = age_new\n",
    "dfn['income'] = income_new"
   ]
  },
  {
   "cell_type": "code",
   "execution_count": 86,
   "metadata": {},
   "outputs": [
    {
     "data": {
      "text/plain": [
       "<matplotlib.axes._subplots.AxesSubplot at 0xf2318d0>"
      ]
     },
     "execution_count": 86,
     "metadata": {},
     "output_type": "execute_result"
    },
    {
     "data": {
      "image/png": "[encoded data removed]",
      "text/plain": [
       "<matplotlib.figure.Figure at 0xf236a90>"
      ]
     },
     "metadata": {},
     "output_type": "display_data"
    }
   ],
   "source": [
    "ax = df[df['customer'] == 'good'].plot.scatter(\n",
    "    x='age', y='income', figsize=(10, 7), color='DarkBlue', label='Good', s=100)\n",
    "df[df['customer'] == 'bad'].plot.scatter(\n",
    "    x='age', y='income', color='Red', label='Bad', ax=ax, s=100)\n",
    "dfn.plot.scatter(x='age', y='income', color='White', label='New', ax=ax, s=220)"
   ]
  },
  {
   "cell_type": "markdown",
   "metadata": {},
   "source": [
    "### Let's try to classify new data points with k-nearest neighbors algorithm with two different k."
   ]
  },
  {
   "cell_type": "code",
   "execution_count": 35,
   "metadata": {
    "collapsed": true
   },
   "outputs": [],
   "source": [
    "# Importing the classifier from scikit learn\n",
    "from sklearn.neighbors import KNeighborsClassifier\n",
    "# Initializing first classifier with number of neighbours = 1\n",
    "knn1 = KNeighborsClassifier(n_neighbors=1)\n",
    "# Initializing second classifier with number of neighbours = 3\n",
    "knn3 = KNeighborsClassifier(n_neighbors=3)"
   ]
  },
  {
   "cell_type": "markdown",
   "metadata": {},
   "source": [
    "### Let's divide our data into a test set and training set."
   ]
  },
  {
   "cell_type": "code",
   "execution_count": 7,
   "metadata": {},
   "outputs": [],
   "source": [
    "X_train = df[['age', 'income']]  # Data that we will be training on\n",
    "y_train = df['customer']  # Labels of training data\n",
    "X_test = dfn[['age', 'income']]  # New data points"
   ]
  },
  {
   "cell_type": "code",
   "execution_count": 10,
   "metadata": {},
   "outputs": [
    {
     "data": {
      "text/html": [
       "<div>\n",
       "<table border=\"1\" class=\"dataframe\">\n",
       "  <thead>\n",
       "    <tr style=\"text-align: right;\">\n",
       "      <th></th>\n",
       "      <th>age</th>\n",
       "      <th>income</th>\n",
       "    </tr>\n",
       "  </thead>\n",
       "  <tbody>\n",
       "    <tr>\n",
       "      <th>0</th>\n",
       "      <td>25</td>\n",
       "      <td>33</td>\n",
       "    </tr>\n",
       "    <tr>\n",
       "      <th>1</th>\n",
       "      <td>41</td>\n",
       "      <td>47</td>\n",
       "    </tr>\n",
       "    <tr>\n",
       "      <th>2</th>\n",
       "      <td>55</td>\n",
       "      <td>58</td>\n",
       "    </tr>\n",
       "  </tbody>\n",
       "</table>\n",
       "</div>"
      ],
      "text/plain": [
       "   age  income\n",
       "0   25      33\n",
       "1   41      47\n",
       "2   55      58"
      ]
     },
     "execution_count": 10,
     "metadata": {},
     "output_type": "execute_result"
    }
   ],
   "source": [
    "X_test.head()"
   ]
  },
  {
   "cell_type": "markdown",
   "metadata": {},
   "source": [
    "### Now we fit our data into models that we initialized."
   ]
  },
  {
   "cell_type": "code",
   "execution_count": 42,
   "metadata": {},
   "outputs": [],
   "source": [
    "knn1.fit(X_train, y_train)\n",
    "knn3.fit(X_train, y_train)"
   ]
  },
  {
   "cell_type": "markdown",
   "metadata": {},
   "source": [
    "### Let our models assign classes to our new customers."
   ]
  },
  {
   "cell_type": "code",
   "execution_count": 43,
   "metadata": {},
   "outputs": [
    {
     "name": "stdout",
     "output_type": "stream",
     "text": [
      "With k=1 the new customers will have following classes: ['bad' 'good' 'good']\n",
      "With k=3 the new customers will have following classes: ['bad' 'bad' 'good']\n"
     ]
    }
   ],
   "source": [
    "# Predicting class of new customers with k nearest neighbors algoritm with k = 1\n",
    "result1 = knn1.predict(X_test)\n",
    "# Predicting class of new customers with k nearest neighbors algoritm with k = 3\n",
    "result3 = knn3.predict(X_test)\n",
    "print(\"With k=1 the new customers will have following classes:\", result1)\n",
    "print(\"With k=3 the new customers will have following classes:\", result3)"
   ]
  },
  {
   "cell_type": "markdown",
   "metadata": {},
   "source": [
    "### Let' check how it will look like."
   ]
  },
  {
   "cell_type": "code",
   "execution_count": 69,
   "metadata": {},
   "outputs": [
    {
     "data": {
      "text/plain": [
       "<matplotlib.text.Text at 0xf1f16a0>"
      ]
     },
     "execution_count": 69,
     "metadata": {},
     "output_type": "execute_result"
    },
    {
     "data": {
      "image/png": "[encoded data removed]",
      "text/plain": [
       "<matplotlib.figure.Figure at 0xf1b9d30>"
      ]
     },
     "metadata": {},
     "output_type": "display_data"
    }
   ],
   "source": [
    "dfn1 = dfn.copy()\n",
    "dfn1['customer'] = result1\n",
    "bx = df[df['customer'] == 'good'].plot.scatter(\n",
    "    x='age', y='income', figsize=(10, 7), color='DarkBlue', label='Good', s=100)\n",
    "df[df['customer'] == 'bad'].plot.scatter(\n",
    "    x='age', y='income', color='Red', label='Bad', ax=bx, s=100)\n",
    "dfn1[dfn1['customer'] == 'good'].plot.scatter(\n",
    "    x='age', y='income', color='DarkBlue', label='New Good', ax=bx, s=220)\n",
    "dfn1[dfn1['customer'] == 'bad'].plot.scatter(\n",
    "    x='age', y='income', color='Red', label='New Bad', ax=bx, s=220)\n",
    "plt.title(\"K-nearest neighbours with k=1\", fontsize=20)"
   ]
  },
  {
   "cell_type": "code",
   "execution_count": 68,
   "metadata": {},
   "outputs": [
    {
     "data": {
      "text/plain": [
       "<matplotlib.text.Text at 0xf175cc0>"
      ]
     },
     "execution_count": 68,
     "metadata": {},
     "output_type": "execute_result"
    },
    {
     "data": {
      "image/png": "[encoded data removed]",
      "text/plain": [
       "<matplotlib.figure.Figure at 0xcba74a8>"
      ]
     },
     "metadata": {},
     "output_type": "display_data"
    }
   ],
   "source": [
    "dfn3 = dfn.copy()\n",
    "dfn3['customer'] = result3\n",
    "cx = df[df['customer'] == 'good'].plot.scatter(\n",
    "    x='age', y='income', figsize=(10, 7), color='DarkBlue', label='Good', s=100)\n",
    "df[df['customer'] == 'bad'].plot.scatter(\n",
    "    x='age', y='income', color='Red', label='Bad', ax=cx, s=100)\n",
    "dfn3[dfn3['customer'] == 'good'].plot.scatter(\n",
    "    x='age', y='income', color='DarkBlue', label='New Good', ax=cx, s=220)\n",
    "dfn3[dfn3['customer'] == 'bad'].plot.scatter(\n",
    "    x='age', y='income', color='Red', label='New Bad', ax=cx, s=220)\n",
    "plt.title(\"K-nearest neighbors with k=3\", fontsize=20)"
   ]
  },
  {
   "cell_type": "markdown",
   "metadata": {},
   "source": [
    "### As you can see, new customer with age = 41 and income = 47 is assigned class 'good' with k=1 and class 'bad' with k = 3. Choosing the right k is an important task in this algorithm."
   ]
  },
  {
   "cell_type": "markdown",
   "metadata": {},
   "source": [
    "# Evaluation"
   ]
  },
  {
   "cell_type": "markdown",
   "metadata": {},
   "source": [
    "### To choose correct k for k-nearest neighbors we would need some measurement of the correctness of our predictions. Let's assume that we now the right class of new customers and we will try to evaluate how good the algorithm performed with two different k."
   ]
  },
  {
   "cell_type": "code",
   "execution_count": 82,
   "metadata": {
    "collapsed": true
   },
   "outputs": [],
   "source": [
    "correct_classes = ['bad', 'bad', 'good']  # Correct classes for new customers"
   ]
  },
  {
   "cell_type": "markdown",
   "metadata": {},
   "source": [
    "### We will use classification_report module of scikit-learn that will provide reports of our models performance."
   ]
  },
  {
   "cell_type": "code",
   "execution_count": 83,
   "metadata": {
    "collapsed": true
   },
   "outputs": [],
   "source": [
    "from sklearn.metrics import classification_report  # Importing reporting module\n",
    "# Module takes in list of correct classes and list of predicted classes\n",
    "rep1 = classification_report(correct_classes, result1)\n",
    "rep3 = classification_report(correct_classes, result3)"
   ]
  },
  {
   "cell_type": "markdown",
   "metadata": {},
   "source": [
    "### Performance of k-nearest neighbors with k = 1:"
   ]
  },
  {
   "cell_type": "code",
   "execution_count": 84,
   "metadata": {},
   "outputs": [
    {
     "name": "stdout",
     "output_type": "stream",
     "text": [
      "             precision    recall  f1-score   support\n",
      "\n",
      "        bad       1.00      0.50      0.67         2\n",
      "       good       0.50      1.00      0.67         1\n",
      "\n",
      "avg / total       0.83      0.67      0.67         3\n",
      "\n"
     ]
    }
   ],
   "source": [
    "print(rep1)"
   ]
  },
  {
   "cell_type": "markdown",
   "metadata": {},
   "source": [
    "### Performance of k-nearest neighbors with k = 3:"
   ]
  },
  {
   "cell_type": "code",
   "execution_count": 85,
   "metadata": {},
   "outputs": [
    {
     "name": "stdout",
     "output_type": "stream",
     "text": [
      "             precision    recall  f1-score   support\n",
      "\n",
      "        bad       1.00      1.00      1.00         2\n",
      "       good       1.00      1.00      1.00         1\n",
      "\n",
      "avg / total       1.00      1.00      1.00         3\n",
      "\n"
     ]
    }
   ],
   "source": [
    "print(rep3)"
   ]
  }
 ],
 "metadata": {
  "anaconda-cloud": {},
  "kernelspec": {
   "display_name": "Python [default]",
   "language": "python",
   "name": "python3"
  },
  "language_info": {
   "codemirror_mode": {
    "name": "ipython",
    "version": 3
   },
   "file_extension": ".py",
   "mimetype": "text/x-python",
   "name": "python",
   "nbconvert_exporter": "python",
   "pygments_lexer": "ipython3",
   "version": "3.5.2"
  }
 },
 "nbformat": 4,
 "nbformat_minor": 1
}
